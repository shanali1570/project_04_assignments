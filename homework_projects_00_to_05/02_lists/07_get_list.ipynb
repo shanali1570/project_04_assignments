{
  "nbformat": 4,
  "nbformat_minor": 0,
  "metadata": {
    "colab": {
      "provenance": []
    },
    "kernelspec": {
      "name": "python3",
      "display_name": "Python 3"
    },
    "language_info": {
      "name": "python"
    }
  },
  "cells": [
    {
      "cell_type": "markdown",
      "source": [
        "**Problem Statement**\n",
        "Write a program which continuously asks the user to enter values which are added one by one into a list. When the user presses enter without typing anything, print the list.\n",
        "\n",
        "Here's a sample run (user input is in blue):\n",
        "\n",
        "Enter a value: 1 Enter a value: 2 Enter a value: 3 Enter a value: Here's the list: ['1', '2', '3']"
      ],
      "metadata": {
        "id": "iLv81Mxu9L3y"
      }
    },
    {
      "cell_type": "code",
      "execution_count": 1,
      "metadata": {
        "colab": {
          "base_uri": "https://localhost:8080/"
        },
        "id": "jwB16enadyQ_",
        "outputId": "1a5c6a8f-0479-4bb4-c686-51c34882b4b7"
      },
      "outputs": [
        {
          "output_type": "stream",
          "name": "stdout",
          "text": [
            "Enter a value: 1\n",
            "Enter a value: 2\n",
            "Enter a value: 3\n",
            "Enter a value: \n",
            "Here's the list: ['1', '2', '3']\n"
          ]
        }
      ],
      "source": [
        "def main():\n",
        "    lst = []  # Create an empty list to store the values\n",
        "\n",
        "    val = input(\"Enter a value: \")  # Get the first input\n",
        "    while val:  # Continue asking until the user enters an empty string\n",
        "        lst.append(val)  # Add the value to the list\n",
        "        val = input(\"Enter a value: \")  # Ask for the next value\n",
        "\n",
        "    print(\"Here's the list:\", lst)  # Print the list when the loop ends\n",
        "\n",
        "\n",
        "# This ensures the main function runs only when the script is executed directly\n",
        "if __name__ == '__main__':\n",
        "    main()\n"
      ]
    }
  ]
}