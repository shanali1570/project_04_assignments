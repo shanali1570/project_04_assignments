{
  "nbformat": 4,
  "nbformat_minor": 0,
  "metadata": {
    "colab": {
      "provenance": []
    },
    "kernelspec": {
      "name": "python3",
      "display_name": "Python 3"
    },
    "language_info": {
      "name": "python"
    }
  },
  "cells": [
    {
      "cell_type": "markdown",
      "source": [
        "**Problem Statement**\n",
        "Write a program that doubles each element in a list of numbers. For example, if you start with this list:\n",
        "\n",
        "numbers = [1, 2, 3, 4]\n",
        "\n",
        "You should end with this list:\n",
        "\n",
        "numbers = [2, 4, 6, 8]"
      ],
      "metadata": {
        "id": "k_mzcjAPlOLs"
      }
    },
    {
      "cell_type": "code",
      "execution_count": 1,
      "metadata": {
        "colab": {
          "base_uri": "https://localhost:8080/"
        },
        "id": "mQtUvk-RlLb6",
        "outputId": "6f733c6f-c2af-437c-af4e-1bfd06d518a0"
      },
      "outputs": [
        {
          "output_type": "stream",
          "name": "stdout",
          "text": [
            "Doubled list: [2, 4, 6, 8]\n"
          ]
        }
      ],
      "source": [
        "def main():\n",
        "  numbers : list[int] = [1,2,3,4] # Original list of number\n",
        "\n",
        "  # Loop through the list indicates and update each element\n",
        "  for index in range(len(numbers)):\n",
        "    numbers[index] *= 2 # Double the value at the current index\n",
        "\n",
        "  print(\"Doubled list:\", numbers) # Print the modified list\n",
        "\n",
        "if __name__ == '__main__':\n",
        "  main()"
      ]
    }
  ]
}