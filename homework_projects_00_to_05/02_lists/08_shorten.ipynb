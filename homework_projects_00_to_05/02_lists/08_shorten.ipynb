{
  "nbformat": 4,
  "nbformat_minor": 0,
  "metadata": {
    "colab": {
      "provenance": []
    },
    "kernelspec": {
      "name": "python3",
      "display_name": "Python 3"
    },
    "language_info": {
      "name": "python"
    }
  },
  "cells": [
    {
      "cell_type": "markdown",
      "source": [
        "Problem Statement\n",
        "Fill out the function shorten(lst) which removes elements from the end of lst, which is a list, and prints each item it removes until lst is MAX_LENGTH items long. If lst is already shorter than MAX_LENGTH you should leave it unchanged. We've written a main() function for you which gets a list and passes it into your function once you run the program. For the autograder to pass you will need MAX_LENGTH to be 3, but feel free to change it around to test your program."
      ],
      "metadata": {
        "id": "rIbZbXKQBczC"
      }
    },
    {
      "cell_type": "code",
      "execution_count": 1,
      "metadata": {
        "colab": {
          "base_uri": "https://localhost:8080/"
        },
        "id": "_mrwDLbaBV6R",
        "outputId": "0b5c240a-1d1a-42dc-cca2-03b078f8fc2d"
      },
      "outputs": [
        {
          "output_type": "stream",
          "name": "stdout",
          "text": [
            "Please enter an element of the list or press enter to stop: 1\n",
            "Please enter an element of the list or press enter to stop: 2\n",
            "Please enter an element of the list or press enter to stop: 3\n",
            "Please enter an element of the list or press enter to stop: 4\n",
            "Please enter an element of the list or press enter to stop: \n",
            "4\n"
          ]
        }
      ],
      "source": [
        "MAX_LENGTH: int = 3  # Set the maximum length of the list\n",
        "\n",
        "def shorten(lst):\n",
        "    \"\"\"\n",
        "    Removes elements from the end of the list until the list length is MAX_LENGTH.\n",
        "    Prints each item removed.\n",
        "    \"\"\"\n",
        "    while len(lst) > MAX_LENGTH:\n",
        "        last_elem = lst.pop()  # Removes the last element from the list\n",
        "        print(last_elem)  # Prints the removed element\n",
        "\n",
        "\n",
        "def get_lst():\n",
        "    \"\"\"\n",
        "    Prompts the user to enter one element of the list at a time and returns the resulting list.\n",
        "    \"\"\"\n",
        "    lst = []\n",
        "    elem = input(\"Please enter an element of the list or press enter to stop: \")\n",
        "    while elem != \"\":\n",
        "        lst.append(elem)  # Adds the input element to the list\n",
        "        elem = input(\"Please enter an element of the list or press enter to stop: \")\n",
        "    return lst\n",
        "\n",
        "\n",
        "def main():\n",
        "    lst = get_lst()  # Get the list from the user\n",
        "    shorten(lst)  # Shorten the list to the desired length\n",
        "\n",
        "\n",
        "# Ensures the main function runs only when the script is executed directly\n",
        "if __name__ == '__main__':\n",
        "    main()\n"
      ]
    }
  ]
}