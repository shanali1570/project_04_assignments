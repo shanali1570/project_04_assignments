{
  "nbformat": 4,
  "nbformat_minor": 0,
  "metadata": {
    "colab": {
      "provenance": []
    },
    "kernelspec": {
      "name": "python3",
      "display_name": "Python 3"
    },
    "language_info": {
      "name": "python"
    }
  },
  "cells": [
    {
      "cell_type": "markdown",
      "source": [
        "**Problem Statement**\n",
        "In the information flow lesson, we discussed using a variable storing a number as an example of scope. We saw that changes we made to the number inside a function did not stay unless we returned it. This is true for what we call immutable data types which include things like numbers and strings.\n",
        "However, there are also mutable data types where changes stay even if we don't return anything. Some examples of mutable data types are lists and dictionaries. This means that you should be mindful when modifying lists and dictionaries within helper functions since their changes stay whether or not you return them.\n",
        "To see this in action, fill out the add_three_copies(...) function which takes a list and some data and then adds three copies of the data to the list. Don't return anything and see what happens! Compare this process to the x = change(x) example and note the differences.\n",
        "\n",
        "Here is an example run of this program (user input in bold italics):\n",
        "\n",
        "Enter a message to copy: Hello world!\n",
        "\n",
        "List before: []\n",
        "\n",
        "List after: ['Hello world!', 'Hello world!', 'Hello world!']\n",
        "\n",
        "(Note. The concept of immutable/mutable data types is called mutability. Be careful because different programming languages have different rules regarding mutability!)"
      ],
      "metadata": {
        "id": "WRic-lLPU3gj"
      }
    },
    {
      "cell_type": "code",
      "execution_count": 2,
      "metadata": {
        "colab": {
          "base_uri": "https://localhost:8080/"
        },
        "id": "iGOzK_voToRa",
        "outputId": "c22c11c0-5f3d-4586-b6a4-69f10afd574a"
      },
      "outputs": [
        {
          "output_type": "stream",
          "name": "stdout",
          "text": [
            "Enter a message to copy: shan e ali\n",
            "List before: []\n",
            "List after: ['shan e ali', 'shan e ali', 'shan e ali']\n"
          ]
        }
      ],
      "source": [
        "# This function adds three copies of the provided data to the given list\n",
        "def add_three_copies(my_list, data):\n",
        "    # Loop three times\n",
        "    for i in range(3):\n",
        "        # Add the data to the list using append\n",
        "        my_list.append(data)\n",
        "\n",
        "########## No need to edit code past this point\n",
        "\n",
        "def main():\n",
        "    # Ask the user to input a message\n",
        "    message = input(\"Enter a message to copy: \")\n",
        "\n",
        "    # Create an empty list to hold the message copies\n",
        "    my_list = []\n",
        "\n",
        "    # Show the list before adding any copies\n",
        "    print(\"List before:\", my_list)\n",
        "\n",
        "    # Call the function that modifies the list (mutable behavior)\n",
        "    add_three_copies(my_list, message)\n",
        "\n",
        "    # Show the list after the function call\n",
        "    print(\"List after:\", my_list)\n",
        "\n",
        "# Run the main function only if this file is being run directly (not imported)\n",
        "if __name__ == \"__main__\":\n",
        "    main()\n"
      ]
    }
  ]
}