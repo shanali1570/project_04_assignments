{
  "nbformat": 4,
  "nbformat_minor": 0,
  "metadata": {
    "colab": {
      "provenance": []
    },
    "kernelspec": {
      "name": "python3",
      "display_name": "Python 3"
    },
    "language_info": {
      "name": "python"
    }
  },
  "cells": [
    {
      "cell_type": "markdown",
      "source": [
        "**Problem Statement**\n",
        "Fill out the function get_last_element(lst) which takes in a list lst as a parameter and prints the last element in the list. The list is guaranteed to be non-empty, but there are no guarantees on its length."
      ],
      "metadata": {
        "id": "08b0VwnNbYH3"
      }
    },
    {
      "cell_type": "code",
      "execution_count": 2,
      "metadata": {
        "colab": {
          "base_uri": "https://localhost:8080/"
        },
        "id": "0jvStXt6bS8-",
        "outputId": "95157940-dfb5-4ac8-8a8a-4e9e89b0a4b2"
      },
      "outputs": [
        {
          "output_type": "stream",
          "name": "stdout",
          "text": [
            "Please enter an element of the list or press enter to stop: shan\n",
            "Please enter an element of the list or press enter to stop: bilal\n",
            "Please enter an element of the list or press enter to stop: ali\n",
            "Please enter an element of the list or press enter to stop: \n",
            "ali\n"
          ]
        }
      ],
      "source": [
        "def get_last_element(lst):\n",
        "    \"\"\"\n",
        "    Prints the last element of the provided list.\n",
        "    Assumes the list is non-empty.\n",
        "    \"\"\"\n",
        "    print(lst[-1])  # This is the most Pythonic way to access the last element\n",
        "\n",
        "\n",
        "def get_lst():\n",
        "    \"\"\"\n",
        "    Prompts the user to enter one element of the list at a time\n",
        "    and returns the resulting list.\n",
        "    Input ends when the user presses Enter on an empty line.\n",
        "    \"\"\"\n",
        "    lst = []\n",
        "    elem = input(\"Please enter an element of the list or press enter to stop: \")\n",
        "    while elem != \"\":\n",
        "        lst.append(elem)\n",
        "        elem = input(\"Please enter an element of the list or press enter to stop: \")\n",
        "    return lst\n",
        "\n",
        "\n",
        "def main():\n",
        "    # Get the list from user input\n",
        "    lst = get_lst()\n",
        "\n",
        "    # Print the last element of the list\n",
        "    get_last_element(lst)\n",
        "\n",
        "\n",
        "# Ensures main() runs only when the script is executed directly\n",
        "if __name__ == '__main__':\n",
        "    main()\n"
      ]
    }
  ]
}