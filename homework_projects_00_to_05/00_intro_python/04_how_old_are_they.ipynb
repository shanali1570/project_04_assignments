{
  "nbformat": 4,
  "nbformat_minor": 0,
  "metadata": {
    "colab": {
      "provenance": []
    },
    "kernelspec": {
      "name": "python3",
      "display_name": "Python 3"
    },
    "language_info": {
      "name": "python"
    }
  },
  "cells": [
    {
      "cell_type": "markdown",
      "source": [
        "Problem Statement\n",
        "Write a program to solve this age-related riddle!\n",
        "\n",
        "Anton, Beth, Chen, Drew, and Ethan are all friends. Their ages are as follows:\n",
        "\n",
        "Anton is 21 years old.\n",
        "\n",
        "Beth is 6 years older than Anton.\n",
        "\n",
        "Chen is 20 years older than Beth.\n",
        "\n",
        "Drew is as old as Chen's age plus Anton's age.\n",
        "\n",
        "Ethan is the same age as Chen.\n",
        "\n",
        "Your code should store each person's age to a variable and print their names and ages at the end. The autograder is sensitive to capitalization and punctuation, be careful! Your solution should look like this (the below numbers are made up -- your solution should have the correct values!):\n",
        "\n",
        "Anton is 3\n",
        "\n",
        "Beth is 4\n",
        "\n",
        "Chen is 5\n",
        "\n",
        "Drew is 6\n",
        "\n",
        "Ethan is 7"
      ],
      "metadata": {
        "id": "n0OLQqz3gSOQ"
      }
    },
    {
      "cell_type": "code",
      "execution_count": null,
      "metadata": {
        "colab": {
          "base_uri": "https://localhost:8080/"
        },
        "id": "BXTehGPxgMhu",
        "outputId": "c4b33132-b942-4d2c-801b-b4dc0509d8c9"
      },
      "outputs": [
        {
          "output_type": "stream",
          "name": "stdout",
          "text": [
            "Anton is 21\n",
            "Beth is 27\n",
            "Chen is 47\n",
            "Drew is 68\n",
            "Ethan is 47\n"
          ]
        }
      ],
      "source": [
        "def main():\n",
        "  # Assign ages based on the give condition\n",
        "  anton = 21\n",
        "  beth = anton + 6\n",
        "  chen = beth + 20\n",
        "  drew = chen + anton\n",
        "  ethan = chen\n",
        "\n",
        "  # Print the result\n",
        "  print(f\"Anton is {anton}\")\n",
        "  print(f\"Beth is {beth}\")\n",
        "  print(f\"Chen is {chen}\")\n",
        "  print(f\"Drew is {drew}\")\n",
        "  print(f\"Ethan is {ethan}\")\n",
        "\n",
        "# This provided line is required at the end of\n",
        "# Python file to call the main() function.\n",
        "if __name__ == '__main__':\n",
        "  main()"
      ]
    }
  ]
}