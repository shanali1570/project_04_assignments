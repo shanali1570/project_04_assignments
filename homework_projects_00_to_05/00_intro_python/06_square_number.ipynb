{
  "nbformat": 4,
  "nbformat_minor": 0,
  "metadata": {
    "colab": {
      "provenance": []
    },
    "kernelspec": {
      "name": "python3",
      "display_name": "Python 3"
    },
    "language_info": {
      "name": "python"
    }
  },
  "cells": [
    {
      "cell_type": "markdown",
      "source": [
        "**Problem Statement**\n",
        "Ask the user for a number and print its square (the product of the number times itself).\n",
        "\n",
        "Here's a sample run of the program (user input is in bold italics):\n",
        "\n",
        "Type a number to see its square: 4\n",
        "\n",
        "4.0 squared is 16.0"
      ],
      "metadata": {
        "id": "tA7aqJiPufsB"
      }
    },
    {
      "cell_type": "code",
      "execution_count": 1,
      "metadata": {
        "colab": {
          "base_uri": "https://localhost:8080/"
        },
        "id": "JX4WOvmQucKT",
        "outputId": "353c85a7-568b-48df-c175-6071ca4c6176"
      },
      "outputs": [
        {
          "output_type": "stream",
          "name": "stdout",
          "text": [
            "Type a number to see its square: 120\n",
            "\u001b[1m\u001b[3m squared is 14400.0\u001b[0m\n"
          ]
        }
      ],
      "source": [
        "bold = '\\033[1m'\n",
        "italics = '\\033[3m'\n",
        "reset = '\\033[0m'\n",
        "\n",
        "def main():\n",
        "  # Prompt the user for a number\n",
        "  number = float(input(\"Type a number to see its square: \"))\n",
        "\n",
        "  # Calculate the square\n",
        "  square = pow(number, 2)\n",
        "\n",
        "  # Display the result\n",
        "  print(f\"{bold}{italics} squared is {square}{reset}\")\n",
        "\n",
        "# There is no need to edit code beyond this point\n",
        "if __name__ == '__main__':\n",
        "  main()"
      ]
    }
  ]
}