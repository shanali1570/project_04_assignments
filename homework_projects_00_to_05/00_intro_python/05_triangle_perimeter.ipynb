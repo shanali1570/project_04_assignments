{
  "nbformat": 4,
  "nbformat_minor": 0,
  "metadata": {
    "colab": {
      "provenance": []
    },
    "kernelspec": {
      "name": "python3",
      "display_name": "Python 3"
    },
    "language_info": {
      "name": "python"
    }
  },
  "cells": [
    {
      "cell_type": "markdown",
      "source": [
        "**Problem Statement**\n",
        "Prompt the user to enter the lengths of each side of a triangle and then calculate and print the perimeter of the triangle (the sum of all of the side lengths).\n",
        "\n",
        "Here's a sample run of the program (user input is in bold italics):\n",
        "\n",
        "What is the length of side 1? 3\n",
        "\n",
        "What is the length of side 2? 4\n",
        "\n",
        "What is the length of side 3? 5.5\n",
        "\n",
        "The perimeter of the triangle is 12.5"
      ],
      "metadata": {
        "id": "gfNLehFZULiZ"
      }
    },
    {
      "cell_type": "code",
      "execution_count": 7,
      "metadata": {
        "colab": {
          "base_uri": "https://localhost:8080/"
        },
        "id": "5hVWBhjlUFQo",
        "outputId": "396783e6-0bc6-496d-bde2-2e5aa58cbe66"
      },
      "outputs": [
        {
          "output_type": "stream",
          "name": "stdout",
          "text": [
            "What is the length of side A? 20\n",
            "What is the length of side B? 20\n",
            "What is the length of side C? 20\n",
            "\u001b[1m\u001b[3mThe perimeter of the triangle is 60.0\u001b[0m\n"
          ]
        }
      ],
      "source": [
        "bold = '\\033[1m'\n",
        "italics = '\\033[3m'\n",
        "reset = '\\033[0m'\n",
        "\n",
        "def main():\n",
        "    # Prompt the user to enter the lengths of each side\n",
        "    side_A = float(input(f\"What is the length of side A? \"))\n",
        "    side_B = float(input(f\"What is the length of side B? \"))\n",
        "    side_C = float(input(f\"What is the length of side C? \"))\n",
        "\n",
        "    # Calculate the perimeter\n",
        "    perimeter = side_A + side_B + side_C\n",
        "\n",
        "    # Display the result\n",
        "    print(f\"{bold}{italics}The perimeter of the triangle is {perimeter}{reset}\")\n",
        "\n",
        "# This provided line is required at the end of the Python file to call the main() function.\n",
        "if __name__ == '__main__':\n",
        "    main()\n"
      ]
    }
  ]
}