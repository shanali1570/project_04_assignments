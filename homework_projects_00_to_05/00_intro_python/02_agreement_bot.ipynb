{
  "nbformat": 4,
  "nbformat_minor": 0,
  "metadata": {
    "colab": {
      "provenance": []
    },
    "kernelspec": {
      "name": "python3",
      "display_name": "Python 3"
    },
    "language_info": {
      "name": "python"
    }
  },
  "cells": [
    {
      "cell_type": "markdown",
      "source": [
        "Problem Statement\n",
        "Write a program which asks the user what their favorite animal is, and then always responds with \"My favorite animal is also ___!\" (the blank should be filled in with the user-inputted animal, of course).\n",
        "\n",
        "Here's a sample run of the program (user input is in bold italics - note the space between the prompt and the user input!):\n",
        "\n",
        "What's your favorite animal? cow\n",
        "\n",
        "My favorite animal is also cow!"
      ],
      "metadata": {
        "id": "RrHZkyB5C2-k"
      }
    },
    {
      "cell_type": "code",
      "execution_count": 3,
      "metadata": {
        "colab": {
          "base_uri": "https://localhost:8080/"
        },
        "id": "29PAd5C4CQUp",
        "outputId": "c6caf254-cac1-4f6c-dc81-42ccaf8d707f"
      },
      "outputs": [
        {
          "output_type": "stream",
          "name": "stdout",
          "text": [
            "What's your favorite animals? cow\n",
            "My favorite animal is also \u001b[1m\u001b[3mcow!\n"
          ]
        }
      ],
      "source": [
        "bold = '\\033[1m'\n",
        "italics = '\\033[3m'\n",
        "\n",
        "def main():\n",
        "\n",
        "  # Ask the user for their favorite animal\n",
        "  favorite_animal = input(\"What's your favorite animals? \")\n",
        "\n",
        "  # Print the response with markdown-style bold italics formatting\n",
        "  print(f\"My favorite animal is also {bold + italics + favorite_animal} !\")\n",
        "\n",
        "# This provided line is required at the end of\n",
        "# Python file to call the main() function.\n",
        "\n",
        "if __name__ == '__main__':\n",
        "  main()"
      ]
    }
  ]
}