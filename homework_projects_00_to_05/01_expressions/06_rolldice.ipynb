{
  "nbformat": 4,
  "nbformat_minor": 0,
  "metadata": {
    "colab": {
      "provenance": []
    },
    "kernelspec": {
      "name": "python3",
      "display_name": "Python 3"
    },
    "language_info": {
      "name": "python"
    }
  },
  "cells": [
    {
      "cell_type": "markdown",
      "source": [],
      "metadata": {
        "id": "xAS0XyJ46Viv"
      }
    },
    {
      "cell_type": "markdown",
      "source": [
        "**Problem Statement**\n",
        "Simulate rolling two dice, and prints results of each roll as well as the total."
      ],
      "metadata": {
        "id": "Oj9deOH-Fg_U"
      }
    },
    {
      "cell_type": "markdown",
      "source": [],
      "metadata": {
        "id": "X0e13kvqFZhT"
      }
    },
    {
      "cell_type": "code",
      "execution_count": 1,
      "metadata": {
        "colab": {
          "base_uri": "https://localhost:8080/"
        },
        "id": "njTlBOsU6Spv",
        "outputId": "9b42a27d-639b-4f29-927e-67241d98ff92"
      },
      "outputs": [
        {
          "output_type": "stream",
          "name": "stdout",
          "text": [
            "🎲 Dice have 6 sides each.\n",
            "🎲 First die: 6\n",
            "🎲 Second die: 2\n",
            "✨ Total of two dice: 8\n"
          ]
        }
      ],
      "source": [
        "\"\"\"\n",
        "Simulate rolling two dice and print the results of each roll as well as the total.\n",
        "\"\"\"\n",
        "\n",
        "import random  # Importing the random module to simulate dice rolls\n",
        "\n",
        "NUM_SIDES: int = 6  # Number of sides on each die\n",
        "\n",
        "def main():\n",
        "    # Uncomment the next line to set a fixed seed for debugging\n",
        "    # random.seed(1)\n",
        "\n",
        "    # Roll two dice\n",
        "    die1: int = random.randint(1, NUM_SIDES)\n",
        "    die2: int = random.randint(1, NUM_SIDES)\n",
        "\n",
        "    # Calculate the total\n",
        "    total: int = die1 + die2\n",
        "\n",
        "    # Display the results using f-strings for better readability\n",
        "    print(f\"🎲 Dice have {NUM_SIDES} sides each.\")\n",
        "    print(f\"🎲 First die: {die1}\")\n",
        "    print(f\"🎲 Second die: {die2}\")\n",
        "    print(f\"✨ Total of two dice: {total}\")\n",
        "\n",
        "if __name__ == '__main__':\n",
        "    main()\n"
      ]
    }
  ]
}