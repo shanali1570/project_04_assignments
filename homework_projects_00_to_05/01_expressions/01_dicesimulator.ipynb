{
  "nbformat": 4,
  "nbformat_minor": 0,
  "metadata": {
    "colab": {
      "provenance": []
    },
    "kernelspec": {
      "name": "python3",
      "display_name": "Python 3"
    },
    "language_info": {
      "name": "python"
    }
  },
  "cells": [
    {
      "cell_type": "markdown",
      "source": [
        "**Problem Statement**\n",
        "Simulate rolling two dice, three times. Prints the results of each die roll. This program is used to show how variable scope works."
      ],
      "metadata": {
        "id": "aFSqPeEX4P6J"
      }
    },
    {
      "cell_type": "code",
      "execution_count": 3,
      "metadata": {
        "colab": {
          "base_uri": "https://localhost:8080/"
        },
        "id": "ag4qCWbz4ITf",
        "outputId": "e6e45a1b-8f18-418e-918e-a1e47422ebe7"
      },
      "outputs": [
        {
          "output_type": "stream",
          "name": "stdout",
          "text": [
            "Round 1: 🎲 Die 1 = 1, Die 2 = 2\n",
            "Round 2: 🎲 Die 1 = 3, Die 2 = 5\n",
            "Round 3: 🎲 Die 1 = 3, Die 2 = 5\n"
          ]
        }
      ],
      "source": [
        "import random   # import random module\n",
        "\n",
        "def roll_dice():\n",
        "  # \"\"\"Simulates rolling a six-sided die.\"\"\"\"\n",
        "  return random.randint(1,6)  # Generates a number between 1 and 6\n",
        "\n",
        "def main():\n",
        "  for round_num in range(1,4):   # Loop for 3 rounds\n",
        "    die_1 = roll_dice()   # Roll first die (local variable)\n",
        "    die_2 = roll_dice()   # Roll second die (local variable)\n",
        "\n",
        "    # Print the result of the dice roll\n",
        "    print(f\"Round {round_num}: 🎲 Die 1 = {die_1}, Die 2 = {die_2}\")\n",
        "\n",
        "if __name__ == '__main__':\n",
        "  main()"
      ]
    }
  ]
}