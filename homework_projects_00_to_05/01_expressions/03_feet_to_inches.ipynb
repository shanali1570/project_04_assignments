{
  "nbformat": 4,
  "nbformat_minor": 0,
  "metadata": {
    "colab": {
      "provenance": []
    },
    "kernelspec": {
      "name": "python3",
      "display_name": "Python 3"
    },
    "language_info": {
      "name": "python"
    }
  },
  "cells": [
    {
      "cell_type": "markdown",
      "source": [
        "Problem Statement\n",
        "Converts feet to inches. Feet is an American unit of measurement. There are 12 inches per foot. Foot is the singular, and feet is the plural."
      ],
      "metadata": {
        "id": "ykjz3aRcv_Cf"
      }
    },
    {
      "cell_type": "code",
      "execution_count": 2,
      "metadata": {
        "colab": {
          "base_uri": "https://localhost:8080/"
        },
        "id": "b_D1csAqv5wg",
        "outputId": "fff25cd8-7f90-4ecb-d5aa-f5971921e8d1"
      },
      "outputs": [
        {
          "output_type": "stream",
          "name": "stdout",
          "text": [
            "Enter number of feet: 2\n",
            "That is 24.0inches!\n"
          ]
        }
      ],
      "source": [
        "# Conversion factor. There are 12 inches in 1 foot.\n",
        "INCHES_IN_FOOT : int =12\n",
        "\n",
        "def main():\n",
        "  # Get user input\n",
        "  feet : float = float(input(\"Enter number of feet: \"))\n",
        "  # Perform the conversion\n",
        "  inches : float = feet * INCHES_IN_FOOT\n",
        "  # Display the result\n",
        "  print(f\"That is {inches}inches!\")\n",
        "\n",
        "# Required line to call the main() function\n",
        "if __name__ == '__main__' :\n",
        "  main()\n"
      ]
    }
  ]
}