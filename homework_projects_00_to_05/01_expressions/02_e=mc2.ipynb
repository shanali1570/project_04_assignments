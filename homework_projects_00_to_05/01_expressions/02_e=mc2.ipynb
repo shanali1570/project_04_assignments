{
  "nbformat": 4,
  "nbformat_minor": 0,
  "metadata": {
    "colab": {
      "provenance": []
    },
    "kernelspec": {
      "name": "python3",
      "display_name": "Python 3"
    },
    "language_info": {
      "name": "python"
    }
  },
  "cells": [
    {
      "cell_type": "markdown",
      "source": [
        "**Problem Statement**\n",
        "Write a program that continually reads in mass from the user and then outputs the equivalent energy using Einstein's mass-energy equivalence formula (E stands for energy, m stands for mass, and C is the speed of light:\n",
        "\n",
        "E = m * c**2\n",
        "\n",
        "Almost 100 years ago, Albert Einstein famously discovered that mass and energy are interchangeable and are related by the above equation. You should ask the user for mass (m) in kilograms and use a constant value for the speed of light -- C = 299792458 m/s.\n",
        "\n",
        "Here's a sample run of the program (user input is in bold italics):\n",
        "\n",
        "Enter kilos of mass: 100\n",
        "\n",
        "e = m * C^2...\n",
        "\n",
        "m = 100.0 kg\n",
        "\n",
        "C = 299792458 m/s\n",
        "\n",
        "8.987551787368176e+18 joules of energy!"
      ],
      "metadata": {
        "id": "G17VpzZBO6J4"
      }
    },
    {
      "cell_type": "code",
      "execution_count": 2,
      "metadata": {
        "colab": {
          "base_uri": "https://localhost:8080/"
        },
        "id": "jRm4tskdOppS",
        "outputId": "7a2b0ea6-6a59-4d24-d0de-1489c4796786"
      },
      "outputs": [
        {
          "output_type": "stream",
          "name": "stdout",
          "text": [
            "Enter kilos of mass: 100\n",
            "\n",
            "e = m * C^2...\n",
            "\n",
            "m = 100.0 kg\n",
            "C = 299792458 m/s\n",
            "8.987551787368176e+18 joules of energy!\n",
            "\n"
          ]
        }
      ],
      "source": [
        "# Define the speed of light (constant)\n",
        "C = 299792458  # m/s\n",
        "\n",
        "def mass_to_energy(mass):\n",
        "    \"\"\"Calculates energy using Einstein's equation: E = m * C^2\"\"\"\n",
        "    return mass * C**2\n",
        "\n",
        "def main():\n",
        "    try:\n",
        "        # Prompt the user to enter mass in kg\n",
        "        mass = float(input(\"Enter kilos of mass: \"))\n",
        "\n",
        "        # Calculate energy\n",
        "        energy = mass_to_energy(mass)\n",
        "\n",
        "        # Display the result\n",
        "        print(\"\\ne = m * C^2...\\n\")\n",
        "        print(f\"m = {mass} kg\")\n",
        "        print(f\"C = {C} m/s\")\n",
        "        print(f\"{energy} joules of energy!\\n\")\n",
        "\n",
        "    except ValueError:\n",
        "        print(\"⚠️ Invalid input! Please enter a valid number.\")\n",
        "\n",
        "if __name__ == '__main__':\n",
        "    main()\n"
      ]
    }
  ]
}