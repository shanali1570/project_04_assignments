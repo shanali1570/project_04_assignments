{
  "nbformat": 4,
  "nbformat_minor": 0,
  "metadata": {
    "colab": {
      "provenance": []
    },
    "kernelspec": {
      "name": "python3",
      "display_name": "Python 3"
    },
    "language_info": {
      "name": "python"
    }
  },
  "cells": [
    {
      "cell_type": "markdown",
      "source": [
        "Problem Statement\n",
        "Ask the user for two numbers, one at a time, and then print the result of dividing the first number by the second and also the remainder of the division.\n",
        "\n",
        "Here's a sample run of the program (user input is in bold italics):\n",
        "\n",
        "Please enter an integer to be divided: 5\n",
        "\n",
        "Please enter an integer to divide by: 3\n",
        "\n",
        "The result of this division is 1 with a remainder of 2"
      ],
      "metadata": {
        "id": "6hqHoq3Uy3aE"
      }
    },
    {
      "cell_type": "code",
      "execution_count": 1,
      "metadata": {
        "colab": {
          "base_uri": "https://localhost:8080/"
        },
        "id": "rxUlFWwFyxTC",
        "outputId": "7fc69cef-f058-446e-9adb-f30ab10fd41e"
      },
      "outputs": [
        {
          "output_type": "stream",
          "name": "stdout",
          "text": [
            "Please enter an integer to be divided: 10\n",
            "Please enter an integer to divide by: 3\n",
            "The result of this division is 3 with a remainder of 1\n"
          ]
        }
      ],
      "source": [
        "def main():\n",
        "  try:\n",
        "    dividend = int(input(\"Please enter an integer to be divided: \"))\n",
        "    divisor = int(input(\"Please enter an integer to divide by: \"))\n",
        "\n",
        "    if divisor == 0:\n",
        "      print(\"Error: Divison by zero is not allowed.\")\n",
        "      return  # Exit the function immediately\n",
        "\n",
        "    quotient = dividend // divisor  # Integer division\n",
        "    remainder = dividend % divisor  # Modulo operation\n",
        "\n",
        "    print(f\"The result of this division is {quotient} with a remainder of {remainder}\")\n",
        "\n",
        "  except ValueError:\n",
        "    print(\"Invalid input. Please enter integers only.\")\n",
        "\n",
        "if __name__ == '__main__':\n",
        "  main()"
      ]
    }
  ]
}