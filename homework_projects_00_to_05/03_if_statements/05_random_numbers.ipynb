{
  "nbformat": 4,
  "nbformat_minor": 0,
  "metadata": {
    "colab": {
      "provenance": []
    },
    "kernelspec": {
      "name": "python3",
      "display_name": "Python 3"
    },
    "language_info": {
      "name": "python"
    }
  },
  "cells": [
    {
      "cell_type": "markdown",
      "source": [
        "Problem Statement\n",
        "Print 10 random numbers in the range 1 to 100.\n",
        "\n",
        "Here is an example run:\n",
        "\n",
        "45 79 61 47 52 10 16 83 19 12\n",
        "\n",
        "Each time you run your program you should get different numbers\n",
        "\n",
        "81 76 70 1 27 63 96 100 32 92\n",
        "\n",
        "Recall that the python random library has a function randint which returns an integer in the range set by the parameters (inclusive). For example this call would produce a random integer between 1 and 6, which could include 1 and could include 6:\n",
        "\n",
        "value = random.randint(1, 6)"
      ],
      "metadata": {
        "id": "nAUcE4csRHfc"
      }
    },
    {
      "cell_type": "code",
      "execution_count": 5,
      "metadata": {
        "colab": {
          "base_uri": "https://localhost:8080/"
        },
        "id": "x3tqdVjGQ6lF",
        "outputId": "77ba1447-76d4-4c7f-b4cd-b26d13e51764"
      },
      "outputs": [
        {
          "output_type": "stream",
          "name": "stdout",
          "text": [
            "28 90 5 92 3 24 89 85 64 85 "
          ]
        }
      ],
      "source": [
        "import random\n",
        "\n",
        "N_NUMBERS = 10  # The number of random numbers to generate\n",
        "MIN_VALUE = 1  # Minimum value for the random number\n",
        "MAX_VALUE = 100  # Maximum value for the random number\n",
        "\n",
        "def main():\n",
        "    # Generate 10 random numbers in the range [1, 100] and print them\n",
        "    for _ in range(N_NUMBERS):\n",
        "        print(random.randint(MIN_VALUE, MAX_VALUE), end=' ')\n",
        "\n",
        "# Call the main function when \"run\"\n",
        "if __name__ == '__main__':\n",
        "    main()\n"
      ]
    }
  ]
}