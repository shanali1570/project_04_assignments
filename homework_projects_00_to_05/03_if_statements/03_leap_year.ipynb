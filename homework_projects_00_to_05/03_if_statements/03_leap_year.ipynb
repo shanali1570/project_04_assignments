{
  "nbformat": 4,
  "nbformat_minor": 0,
  "metadata": {
    "colab": {
      "provenance": []
    },
    "kernelspec": {
      "name": "python3",
      "display_name": "Python 3"
    },
    "language_info": {
      "name": "python"
    }
  },
  "cells": [
    {
      "cell_type": "markdown",
      "source": [
        "**Problem Statement**\n",
        "Write a program that reads a year from the user and tells whether a given year is a leap year or not.\n",
        "\n",
        "A leap year (also known as an intercalary year or bissextile year) is a calendar year that contains an additional day (or, in the case of a lunisolar calendar, a month) added to keep the calendar year synchronized with the astronomical year or seasonal year. In the Gregorian calendar, each leap year has 366 days instead of 365, by extending February to 29 days rather than the common 28.\n",
        "\n",
        "In the Gregorian calendar, three criteria must be checked to identify leap years:\n",
        "\n",
        "The given year must be evenly divisible by 4;\n",
        "If the year can also be evenly divided by 100, it is NOT a leap year; unless:\n",
        "The year is also evenly divisible by 400. Then it is a leap year.\n",
        "Your code should use the above criteria to check for a leap year and then print either \"That's a leap year!\" or \"That's not a leap year.\""
      ],
      "metadata": {
        "id": "O9XoxI_pN8Gk"
      }
    },
    {
      "cell_type": "code",
      "execution_count": 1,
      "metadata": {
        "colab": {
          "base_uri": "https://localhost:8080/"
        },
        "id": "kH1yvDu8NFZP",
        "outputId": "94cf5810-7d73-4fd0-cada-84af60b7c7c8"
      },
      "outputs": [
        {
          "output_type": "stream",
          "name": "stdout",
          "text": [
            "Please input a year: 2020\n",
            "That's a leap year!\n"
          ]
        }
      ],
      "source": [
        "def main():\n",
        "    # Get the year to check from the user\n",
        "    year = int(input('Please input a year: '))\n",
        "\n",
        "    # Check if the year is divisible by 4\n",
        "    if year % 4 == 0:\n",
        "        # If the year is also divisible by 100, it may not be a leap year\n",
        "        if year % 100 == 0:\n",
        "            # But if it's also divisible by 400, it is a leap year\n",
        "            if year % 400 == 0:\n",
        "                print(\"That's a leap year!\")\n",
        "            else:\n",
        "                print(\"That's not a leap year.\")\n",
        "        else:\n",
        "            # If it's divisible by 4 but not by 100, it's a leap year\n",
        "            print(\"That's a leap year!\")\n",
        "    else:\n",
        "        # If it's not divisible by 4, it's not a leap year\n",
        "        print(\"That's not a leap year.\")\n",
        "\n",
        "# Calling the main function\n",
        "if __name__ == '__main__':\n",
        "    main()\n"
      ]
    }
  ]
}