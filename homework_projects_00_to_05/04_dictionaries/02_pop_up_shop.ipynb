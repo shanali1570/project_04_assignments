{
  "nbformat": 4,
  "nbformat_minor": 0,
  "metadata": {
    "colab": {
      "provenance": []
    },
    "kernelspec": {
      "name": "python3",
      "display_name": "Python 3"
    },
    "language_info": {
      "name": "python"
    }
  },
  "cells": [
    {
      "cell_type": "markdown",
      "source": [
        "Problem Statement\n",
        "There's a small fruit shop nearby your house that you like to buy from. Since you buy several fruit at a time, you want to keep track of how much the fruit will cost before you go. Luckily you wrote down what fruits were available and how much one of each fruit costs.\n",
        "\n",
        "Write a program that loops through a dictionary of fruits, prompting the user to see how many of each fruit they want to buy, and then prints out the total combined cost of all of the fruits.\n",
        "\n",
        "Here is an example run of the program (user input is in bold italics):\n",
        "\n",
        "How many (apple) do you want?: 2\n",
        "\n",
        "How many (durian) do you want?: 0\n",
        "\n",
        "How many (jackfruit) do you want?: 1\n",
        "\n",
        "How many (kiwi) do you want?: 0\n",
        "\n",
        "How many (rambutan) do you want?: 1\n",
        "\n",
        "How many (mango) do you want?: 3\n",
        "\n",
        "Your total is $99.5"
      ],
      "metadata": {
        "id": "3REn_5qVLgCa"
      }
    },
    {
      "cell_type": "code",
      "execution_count": 1,
      "metadata": {
        "colab": {
          "base_uri": "https://localhost:8080/"
        },
        "id": "tQ9VQanyLYIV",
        "outputId": "ff03a654-d1a6-4b10-fc07-9f5dbcdf1c5f"
      },
      "outputs": [
        {
          "output_type": "stream",
          "name": "stdout",
          "text": [
            "How many (apple) do you want to buy?: 2\n",
            "How many (durian) do you want to buy?: 1\n",
            "How many (jackfruit) do you want to buy?: 3\n",
            "How many (kiwi) do you want to buy?: 0\n",
            "How many (rambutan) do you want to buy?: 1\n",
            "How many (mango) do you want to buy?: 4\n",
            "Your total is $314.5\n"
          ]
        }
      ],
      "source": [
        "def main():\n",
        "    \"\"\"\n",
        "    This function calculates the total cost of fruits based on user input.\n",
        "    It uses a dictionary to store fruit names and their prices,\n",
        "    then asks the user how many of each fruit they want to buy.\n",
        "    \"\"\"\n",
        "\n",
        "    # Dictionary storing fruit names as keys and their prices per unit as values\n",
        "    fruits = {\n",
        "        'apple': 1.5,\n",
        "        'durian': 50,\n",
        "        'jackfruit': 80,\n",
        "        'kiwi': 1,\n",
        "        'rambutan': 1.5,\n",
        "        'mango': 5\n",
        "    }\n",
        "\n",
        "    total_cost = 0  # This variable will store the total bill\n",
        "\n",
        "    # Loop over each fruit in the dictionary\n",
        "    for fruit_name in fruits:\n",
        "        price = fruits[fruit_name]  # Get the price for the current fruit\n",
        "\n",
        "        # Ask the user how many they want to buy\n",
        "        amount_bought = int(input(f\"How many ({fruit_name}) do you want to buy?: \"))\n",
        "\n",
        "        # Calculate cost and add it to the total\n",
        "        total_cost += price * amount_bought\n",
        "\n",
        "    # Print the final total cost to the user\n",
        "    print(\"Your total is $\" + str(total_cost))\n",
        "\n",
        "\n",
        "# Boilerplate code to ensure main() runs when script is executed\n",
        "if __name__ == '__main__':\n",
        "    main()\n"
      ]
    }
  ]
}