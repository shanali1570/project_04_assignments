{
  "nbformat": 4,
  "nbformat_minor": 0,
  "metadata": {
    "colab": {
      "provenance": []
    },
    "kernelspec": {
      "name": "python3",
      "display_name": "Python 3"
    },
    "language_info": {
      "name": "python"
    }
  },
  "cells": [
    {
      "cell_type": "markdown",
      "source": [
        "Problem Statement\n",
        "You want to be safe online and use different passwords for different websites. However, you are forgetful at times and want to make a program that can match which password belongs to which website without storing the actual password!\n",
        "\n",
        "This can be done via something called hashing. Hashing is when we take something and convert it into a different, unique identifier. This is done using a hash function. Luckily, there are several resources that can help us with this.\n",
        "\n",
        "For example, using a hash function called SHA256(...) something as simple as\n",
        "\n",
        "hello\n",
        "\n",
        "can be hashed into a much more complex\n",
        "\n",
        "2cf24dba5fb0a30e26e83b2ac5b9e29e1b161e5c1fa7425e73043362938b9824\n",
        "\n",
        "Fill out the login(...) function for a website that hashes their passwords. Login should return True if an email's stored password hash in stored_logins is the same as the hash of password_to_check.\n",
        "\n",
        "(Hint. You will need to use the provided hash_password(...) function. You don't necessarily need to know how it works, just know that hash_password(...) returns the hash for the password!)"
      ],
      "metadata": {
        "id": "11pHVvYnNHfQ"
      }
    },
    {
      "cell_type": "code",
      "execution_count": 1,
      "metadata": {
        "colab": {
          "base_uri": "https://localhost:8080/"
        },
        "id": "csrvVYniNEno",
        "outputId": "bd6ffe45-50f7-476c-86e4-b973dd2216f0"
      },
      "outputs": [
        {
          "output_type": "stream",
          "name": "stdout",
          "text": [
            "False\n",
            "True\n",
            "False\n",
            "True\n",
            "False\n",
            "True\n"
          ]
        }
      ],
      "source": [
        "from hashlib import sha256  # Importing SHA256 hash function from hashlib module\n",
        "\n",
        "\n",
        "def login(email, stored_logins, password_to_check):\n",
        "    \"\"\"\n",
        "    Verifies if the provided password matches the stored hashed password for the given email.\n",
        "\n",
        "    Parameters:\n",
        "        email (str): The email address of the user trying to log in.\n",
        "        stored_logins (dict): A dictionary mapping emails to their hashed passwords.\n",
        "        password_to_check (str): The password input provided by the user during login.\n",
        "\n",
        "    Returns:\n",
        "        bool: True if the password matches, False otherwise.\n",
        "    \"\"\"\n",
        "    # Get the hashed version of the input password and compare with stored hash\n",
        "    return stored_logins[email] == hash_password(password_to_check)\n",
        "\n",
        "\n",
        "def hash_password(password):\n",
        "    \"\"\"\n",
        "    Hashes a given password using SHA256 and returns its hexadecimal representation.\n",
        "\n",
        "    Parameters:\n",
        "        password (str): The plain text password to hash.\n",
        "\n",
        "    Returns:\n",
        "        str: SHA256 hashed password in hexadecimal format.\n",
        "    \"\"\"\n",
        "    return sha256(password.encode()).hexdigest()\n",
        "\n",
        "\n",
        "def main():\n",
        "    \"\"\"\n",
        "    Main function simulates stored login credentials and tests the login function.\n",
        "    \"\"\"\n",
        "\n",
        "    # Predefined hashed login data (emails mapped to SHA256 hashed passwords)\n",
        "    stored_logins = {\n",
        "        \"example@gmail.com\": \"5e884898da28047151d0e56f8dc6292773603d0d6aabbdd62a11ef721d1542d8\",      # \"password\"\n",
        "        \"code_in_placer@cip.org\": \"973607a4ae7b4cf7d96a100b0fb07e8519cc4f70441d41214a9f811577bb06cc\",  # \"karel\"\n",
        "        \"student@stanford.edu\": \"882c6df720fd99f5eebb1581a1cf975625cea8a160283011c0b9512bb56c95fb\"     # \"123!456?789\"\n",
        "    }\n",
        "\n",
        "    # Test login attempts with correct and incorrect passwords\n",
        "    print(login(\"example@gmail.com\", stored_logins, \"word\"))         # False\n",
        "    print(login(\"example@gmail.com\", stored_logins, \"password\"))     # True\n",
        "\n",
        "    print(login(\"code_in_placer@cip.org\", stored_logins, \"Karel\"))   # False\n",
        "    print(login(\"code_in_placer@cip.org\", stored_logins, \"karel\"))   # True\n",
        "\n",
        "    print(login(\"student@stanford.edu\", stored_logins, \"password\"))  # False\n",
        "    print(login(\"student@stanford.edu\", stored_logins, \"123!456?789\"))  # True\n",
        "\n",
        "\n",
        "# Ensure main() runs when the script is executed directly\n",
        "if __name__ == '__main__':\n",
        "    main()\n"
      ]
    }
  ]
}