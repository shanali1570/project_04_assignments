{
  "nbformat": 4,
  "nbformat_minor": 0,
  "metadata": {
    "colab": {
      "provenance": []
    },
    "kernelspec": {
      "name": "python3",
      "display_name": "Python 3"
    },
    "language_info": {
      "name": "python"
    }
  },
  "cells": [
    {
      "cell_type": "markdown",
      "source": [
        "Problem Statement\n",
        "This program counts the number of times each number appears in a list. It uses a dictionary to keep track of the information.\n",
        "\n",
        "An example run of the program looks like this (user input is in blue):\n",
        "\n",
        "Enter a number: 3 Enter a number: 4 Enter a number: 3 Enter a number: 6 Enter a number: 4 Enter a number: 3 Enter a number: 12 Enter a number: 3 appears 3 times. 4 appears 2 times. 6 appears 1 times. 12 appears 1 times."
      ],
      "metadata": {
        "id": "aceDHGtdG0Jj"
      }
    },
    {
      "cell_type": "code",
      "execution_count": 1,
      "metadata": {
        "colab": {
          "base_uri": "https://localhost:8080/"
        },
        "id": "VcrUV0IkGvRZ",
        "outputId": "9ba8fd3e-e1bc-4035-a2ed-0ee8dd32dbbc"
      },
      "outputs": [
        {
          "output_type": "stream",
          "name": "stdout",
          "text": [
            "Enter a number: 2\n",
            "Enter a number: 3\n",
            "Enter a number: 4\n",
            "Enter a number: 5\n",
            "Enter a number: 6\n",
            "Enter a number: 2\n",
            "Enter a number: 2\n",
            "Enter a number: 2\n",
            "Enter a number: 3\n",
            "Enter a number: 4\n",
            "Enter a number: 5\n",
            "Enter a number: 6\n",
            "Enter a number: 5\n",
            "Enter a number: 4\n",
            "Enter a number: 3\n",
            "Enter a number: 2\n",
            "Enter a number: 1\n",
            "Enter a number: \n",
            "2 appears 5 times.\n",
            "3 appears 3 times.\n",
            "4 appears 3 times.\n",
            "5 appears 3 times.\n",
            "6 appears 2 times.\n",
            "1 appears 1 times.\n"
          ]
        }
      ],
      "source": [
        "def get_user_numbers():\n",
        "    \"\"\"\n",
        "    Prompt the user to enter numbers one by one.\n",
        "    Stop asking for numbers when the user enters a blank line.\n",
        "    Store all numbers in a list and return it.\n",
        "    \"\"\"\n",
        "    user_numbers = []  # Create an empty list to store the numbers\n",
        "\n",
        "    while True:\n",
        "        user_input = input(\"Enter a number: \")  # Prompt user for input\n",
        "\n",
        "        if user_input == \"\":  # If the input is a blank line, stop the loop\n",
        "            break\n",
        "\n",
        "        # Convert the input string to an integer\n",
        "        # Assumes that the user inputs a valid integer\n",
        "        num = int(user_input)\n",
        "\n",
        "        # Add the integer to the list\n",
        "        user_numbers.append(num)\n",
        "\n",
        "    return user_numbers  # Return the complete list of numbers\n",
        "\n",
        "\n",
        "def count_nums(num_lst):\n",
        "    \"\"\"\n",
        "    Count how many times each number appears in the list.\n",
        "    Use a dictionary to store number as key and its frequency as value.\n",
        "    \"\"\"\n",
        "    num_dict = {}  # Create an empty dictionary to store counts\n",
        "\n",
        "    # Loop through each number in the list\n",
        "    for num in num_lst:\n",
        "        # If number is not already in dictionary, add it with count 1\n",
        "        if num not in num_dict:\n",
        "            num_dict[num] = 1\n",
        "        else:\n",
        "            # If number is already present, increment the count\n",
        "            num_dict[num] += 1\n",
        "\n",
        "    return num_dict  # Return the dictionary with frequency counts\n",
        "\n",
        "\n",
        "def print_counts(num_dict):\n",
        "    \"\"\"\n",
        "    Print each number along with how many times it appeared.\n",
        "    \"\"\"\n",
        "    # Loop through each key-value pair in the dictionary\n",
        "    for num in num_dict:\n",
        "        print(f\"{num} appears {num_dict[num]} times.\")\n",
        "\n",
        "\n",
        "def main():\n",
        "    \"\"\"\n",
        "    Main function that ties everything together:\n",
        "    1. Get numbers from user\n",
        "    2. Count how often each number appears\n",
        "    3. Display the results\n",
        "    \"\"\"\n",
        "    # Step 1: Get list of numbers from user\n",
        "    user_numbers = get_user_numbers()\n",
        "\n",
        "    # Step 2: Count each number's occurrences\n",
        "    num_dict = count_nums(user_numbers)\n",
        "\n",
        "    # Step 3: Print the frequency count\n",
        "    print_counts(num_dict)\n",
        "\n",
        "\n",
        "# Standard Python convention: run the main function if this file is executed directly\n",
        "if __name__ == '__main__':\n",
        "    main()\n",
        "S"
      ]
    }
  ]
}