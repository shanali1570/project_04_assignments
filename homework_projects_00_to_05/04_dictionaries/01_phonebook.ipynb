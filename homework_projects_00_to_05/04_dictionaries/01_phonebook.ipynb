{
  "nbformat": 4,
  "nbformat_minor": 0,
  "metadata": {
    "colab": {
      "provenance": []
    },
    "kernelspec": {
      "name": "python3",
      "display_name": "Python 3"
    },
    "language_info": {
      "name": "python"
    }
  },
  "cells": [
    {
      "cell_type": "markdown",
      "source": [
        "Problem Statement\n",
        "In this program we show an example of using dictionaries to keep track of information in a phonebook."
      ],
      "metadata": {
        "id": "wMwJ8t7rJNd6"
      }
    },
    {
      "cell_type": "code",
      "execution_count": 1,
      "metadata": {
        "colab": {
          "base_uri": "https://localhost:8080/"
        },
        "id": "0OWAbr91JDvz",
        "outputId": "ef9f4e1e-094c-4038-94a0-c25f3da3f515"
      },
      "outputs": [
        {
          "name": "stdout",
          "output_type": "stream",
          "text": [
            "Name: shan\n",
            "Number: 03128426694\n",
            "Name: ali\n",
            "Number: 03121234567\n",
            "Name: \n",
            "\n",
            "--- Phonebook Entries ---\n",
            "shan -> 03128426694\n",
            "ali -> 03121234567\n",
            "\n",
            "--- Lookup Phone Numbers ---\n",
            "Enter name to lookup: shan\n",
            "shan's number is 03128426694\n",
            "Enter name to lookup: \n"
          ]
        }
      ],
      "source": [
        "def read_phone_numbers():\n",
        "    \"\"\"\n",
        "    Ask the user for names and numbers to store in a phonebook.\n",
        "    Returns the completed phonebook dictionary.\n",
        "    \"\"\"\n",
        "    phonebook = {}  # Create an empty dictionary to store name-number pairs\n",
        "\n",
        "    while True:\n",
        "        name = input(\"Name: \")  # Ask for a name\n",
        "\n",
        "        if name == \"\":  # Stop taking input if user enters a blank line\n",
        "            break\n",
        "\n",
        "        number = input(\"Number: \")  # Ask for the corresponding phone number\n",
        "\n",
        "        # Store the name as the key and the number as the value\n",
        "        phonebook[name] = number\n",
        "\n",
        "    return phonebook  # Return the filled phonebook\n",
        "\n",
        "\n",
        "def print_phonebook(phonebook):\n",
        "    \"\"\"\n",
        "    Print all entries in the phonebook.\n",
        "    Format: Name -> Number\n",
        "    \"\"\"\n",
        "    print(\"\\n--- Phonebook Entries ---\")\n",
        "    for name in phonebook:\n",
        "        print(f\"{name} -> {phonebook[name]}\")\n",
        "\n",
        "\n",
        "def lookup_numbers(phonebook):\n",
        "    \"\"\"\n",
        "    Allow the user to look up a number by entering a name.\n",
        "    Continues until the user enters a blank line.\n",
        "    \"\"\"\n",
        "    print(\"\\n--- Lookup Phone Numbers ---\")\n",
        "    while True:\n",
        "        name = input(\"Enter name to lookup: \")\n",
        "\n",
        "        if name == \"\":  # Exit the lookup loop\n",
        "            break\n",
        "\n",
        "        if name in phonebook:\n",
        "            print(f\"{name}'s number is {phonebook[name]}\")\n",
        "        else:\n",
        "            print(f\"{name} is not in the phonebook\")\n",
        "\n",
        "\n",
        "def main():\n",
        "    \"\"\"\n",
        "    Main function to:\n",
        "    1. Read and store names and numbers.\n",
        "    2. Display the phonebook.\n",
        "    3. Allow the user to search for contacts by name.\n",
        "    \"\"\"\n",
        "    phonebook = read_phone_numbers()     # Step 1: Input contacts\n",
        "    print_phonebook(phonebook)           # Step 2: Show all contacts\n",
        "    lookup_numbers(phonebook)            # Step 3: Enable search\n",
        "\n",
        "\n",
        "# Standard Python practice: call main() only if this script is run directly\n",
        "if __name__ == '__main__':\n",
        "    main()\n"
      ]
    }
  ]
}