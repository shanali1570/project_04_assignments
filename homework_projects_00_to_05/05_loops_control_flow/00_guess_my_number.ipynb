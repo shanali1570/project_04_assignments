{
  "nbformat": 4,
  "nbformat_minor": 0,
  "metadata": {
    "colab": {
      "provenance": []
    },
    "kernelspec": {
      "name": "python3",
      "display_name": "Python 3"
    },
    "language_info": {
      "name": "python"
    }
  },
  "cells": [
    {
      "cell_type": "markdown",
      "source": [
        "Problem Statement\n",
        "Guess My Number\n",
        "\n",
        "I am thinking of a number between 0 and 99... Enter a guess: 50 Your guess is too high\n",
        "\n",
        "Enter a new number: 25 Your guess is too low\n",
        "\n",
        "Enter a new number: 40 Your guess is too low\n",
        "\n",
        "Enter a new number: 45 Your guess is too low\n",
        "\n",
        "Enter a new number: 48 Congrats! The number was: 48"
      ],
      "metadata": {
        "id": "VHcPCslSPeRN"
      }
    },
    {
      "cell_type": "code",
      "execution_count": 1,
      "metadata": {
        "colab": {
          "base_uri": "https://localhost:8080/"
        },
        "id": "BCebGq-yPYLn",
        "outputId": "95ed78dc-7d91-48f6-e9a0-843be1c7bbec"
      },
      "outputs": [
        {
          "output_type": "stream",
          "name": "stdout",
          "text": [
            "🎲 I am thinking of a number between 1 and 99...\n",
            "Enter a guess: 2\n",
            "📉 Your guess is too low\n",
            "\n",
            "Enter a new guess: 50\n",
            "📉 Your guess is too low\n",
            "\n",
            "Enter a new guess: 70\n",
            "📈 Your guess is too high\n",
            "\n",
            "Enter a new guess: 60\n",
            "📈 Your guess is too high\n",
            "\n",
            "Enter a new guess: 55\n",
            "📉 Your guess is too low\n",
            "\n",
            "Enter a new guess: 57\n",
            "📈 Your guess is too high\n",
            "\n",
            "Enter a new guess: 56\n",
            "🎉 Congrats! The number was: 56\n"
          ]
        }
      ],
      "source": [
        "import random  # Importing the random module to generate a random number\n",
        "\n",
        "def main():\n",
        "    \"\"\"\n",
        "    This is a number guessing game where the program picks a random number\n",
        "    between 1 and 99, and the user tries to guess it.\n",
        "    \"\"\"\n",
        "\n",
        "    # Generate a random number between 1 and 99 (inclusive)\n",
        "    secret_number = random.randint(1, 99)\n",
        "\n",
        "    print(\"🎲 I am thinking of a number between 1 and 99...\")\n",
        "\n",
        "    # Ask the user for their first guess\n",
        "    guess = int(input(\"Enter a guess: \"))\n",
        "\n",
        "    # Loop until the guess is correct\n",
        "    while guess != secret_number:\n",
        "        if guess < secret_number:\n",
        "            print(\"📉 Your guess is too low\")\n",
        "        else:\n",
        "            print(\"📈 Your guess is too high\")\n",
        "\n",
        "        print()  # Print a blank line for readability\n",
        "        guess = int(input(\"Enter a new guess: \"))  # Prompt for a new guess\n",
        "\n",
        "    # When the correct number is guessed\n",
        "    print(f\"🎉 Congrats! The number was: {secret_number}\")\n",
        "\n",
        "# Standard boilerplate to run the main() function\n",
        "if __name__ == '__main__':\n",
        "    main()\n"
      ]
    }
  ]
}