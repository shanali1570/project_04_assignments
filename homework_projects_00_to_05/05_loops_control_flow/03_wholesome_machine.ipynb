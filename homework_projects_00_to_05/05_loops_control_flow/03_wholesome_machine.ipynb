{
  "nbformat": 4,
  "nbformat_minor": 0,
  "metadata": {
    "colab": {
      "provenance": []
    },
    "kernelspec": {
      "name": "python3",
      "display_name": "Python 3"
    },
    "language_info": {
      "name": "python"
    }
  },
  "cells": [
    {
      "cell_type": "markdown",
      "source": [
        "Problem Statement\n",
        "Write a program which prompts the user to type an affirmation of your choice (we'll use \"I am capable of doing anything I put my mind to.\") until they type it correctly. Sometimes, especially in the midst of such uncertain times, we just need to be reminded that we are resilient, capable, and strong; this little Python program may be able to help!\n",
        "\n",
        "Here's a sample run of the program (user input is in blue):\n",
        "\n",
        "Please type the following affirmation: I am capable of doing anything I put my mind to. Hmmm That was not the affirmation. Please type the following affirmation: I am capable of doing anything I put my mind to. I am capable of doing anything I put my mind to. That's right! :)\n",
        "\n",
        "Note that you can call input() with no prompt and it will still wait for a user to type something!"
      ],
      "metadata": {
        "id": "9Rll6jeIUQkF"
      }
    },
    {
      "cell_type": "code",
      "execution_count": 1,
      "metadata": {
        "colab": {
          "base_uri": "https://localhost:8080/"
        },
        "id": "aNbDqEf5UOmB",
        "outputId": "add0dc09-f0d5-44ac-d98b-c7c5ba50b33b"
      },
      "outputs": [
        {
          "output_type": "stream",
          "name": "stdout",
          "text": [
            "Please type the following affirmation: I am capable of doing anything I put my mind to.\n",
            "Please type the following affirmation: I am capable of doing anything I put my mind to.\n",
            "That was not the affirmation.\n",
            "Please type the following affirmation: I am capable of doing anything I put my mind to.\n",
            "\n",
            "That was not the affirmation.\n",
            "Please type the following affirmation: I am capable of doing anything I put my mind to.\n",
            "I am capable of doing anything I put my mind to.\n",
            "That's right! :)\n"
          ]
        }
      ],
      "source": [
        "# Constant string that stores the correct affirmation we want the user to type\n",
        "AFFIRMATION: str = \"I am capable of doing anything I put my mind to.\"\n",
        "\n",
        "def main():\n",
        "    # Initial prompt asking the user to type the correct affirmation\n",
        "    print(\"Please type the following affirmation: \" + AFFIRMATION)\n",
        "\n",
        "    # Get the user's input (typed affirmation)\n",
        "    user_feedback = input()\n",
        "\n",
        "    # Keep asking the user until they type the correct affirmation\n",
        "    while user_feedback != AFFIRMATION:\n",
        "        # Inform the user that their input was incorrect\n",
        "        print(\"That was not the affirmation.\")\n",
        "\n",
        "        # Show the affirmation again for the user to retype\n",
        "        print(\"Please type the following affirmation: \" + AFFIRMATION)\n",
        "\n",
        "        # Get the new input from the user\n",
        "        user_feedback = input()\n",
        "\n",
        "    # Once the correct affirmation is typed, congratulate the user\n",
        "    print(\"That's right! :)\")\n",
        "\n",
        "# This condition ensures the main() function runs only when the file is executed directly\n",
        "if __name__ == '__main__':\n",
        "    main()\n"
      ]
    }
  ]
}