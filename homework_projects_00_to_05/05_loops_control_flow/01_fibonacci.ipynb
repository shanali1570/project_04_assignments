{
  "nbformat": 4,
  "nbformat_minor": 0,
  "metadata": {
    "colab": {
      "provenance": []
    },
    "kernelspec": {
      "name": "python3",
      "display_name": "Python 3"
    },
    "language_info": {
      "name": "python"
    }
  },
  "cells": [
    {
      "cell_type": "markdown",
      "source": [
        "Problem Statement\n",
        "Write a program to print terms in the Fibonacci sequence up to a maximum value.\n",
        "\n",
        "In the 13th century, the Italian mathematician Leonardo Fibonacci, as a way to explain the geometric growth of a population of rabbits, devised a mathematical sequence that now bears his name. The first two terms in this sequence, Fib(0) and Fib(1), are 0 and 1, and every subsequent term is the sum of the preceding two. Thus, the first several terms in the Fibonacci sequence look like this:\n",
        "\n",
        "Fib(0) = 0 Fib(1) = 1 Fib(2) = 1 = 0 + 1 Fib(3) = 2 = 1 + 1 Fib(4) = 3 = 1 + 2 Fib(5) = 5 = 2 + 3\n",
        "\n",
        "Write a program that displays the terms in the Fibonacci sequence, starting with Fib(0) and continuing as long as the terms are less than 10,000 (you should store this value as a constant!). Thus, your program should produce the following sample run:\n",
        "\n",
        "0 1 1 2 3 5 8 13 21 34 55 89 144 233 377 610 987 1597 2584 4181 6765"
      ],
      "metadata": {
        "id": "_aqpf0WORC_F"
      }
    },
    {
      "cell_type": "code",
      "execution_count": 1,
      "metadata": {
        "colab": {
          "base_uri": "https://localhost:8080/"
        },
        "id": "EXitoWV5RAcj",
        "outputId": "2d9417d5-f628-4259-d5ba-209d9257520b"
      },
      "outputs": [
        {
          "output_type": "stream",
          "name": "stdout",
          "text": [
            "0 1 1 2 3 5 8 13 21 34 55 89 144 233 377 610 987 1597 2584 4181 6765 "
          ]
        }
      ],
      "source": [
        "# Define the constant for the maximum value in the Fibonacci sequence\n",
        "MAX_TERM_VALUE: int = 10000  # The sequence will stop when the number exceeds this value\n",
        "\n",
        "def main():\n",
        "    \"\"\"\n",
        "    This program prints the Fibonacci sequence starting from Fib(0) and continuing\n",
        "    as long as the terms are less than or equal to 10,000.\n",
        "    \"\"\"\n",
        "\n",
        "    # Initialize the first two Fibonacci numbers\n",
        "    curr_term = 0  # This represents Fib(0), the first term in the sequence\n",
        "    next_term = 1  # This represents Fib(1), the second term in the sequence\n",
        "\n",
        "    # Loop to print Fibonacci numbers while curr_term is less than or equal to MAX_TERM_VALUE\n",
        "    while curr_term <= MAX_TERM_VALUE:\n",
        "        print(curr_term, end=\" \")  # Print the current Fibonacci number in the sequence\n",
        "        # Calculate the next term in the sequence\n",
        "        term_after_next = curr_term + next_term  # Next Fibonacci term is the sum of the two previous ones\n",
        "        curr_term = next_term  # Move curr_term to the next term in the sequence\n",
        "        next_term = term_after_next  # Update next_term to the newly calculated term\n",
        "\n",
        "# This standard boilerplate is required to execute the main function when the script runs directly\n",
        "if __name__ == '__main__':\n",
        "    main()\n"
      ]
    }
  ]
}