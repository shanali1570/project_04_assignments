{
  "nbformat": 4,
  "nbformat_minor": 0,
  "metadata": {
    "colab": {
      "provenance": []
    },
    "kernelspec": {
      "name": "python3",
      "display_name": "Python 3"
    },
    "language_info": {
      "name": "python"
    }
  },
  "cells": [
    {
      "cell_type": "markdown",
      "source": [
        "Problem Statement\n",
        "Write a program that prints the first 20 even numbers. There are several correct approaches, but they all use a loop of some sort. Do no write twenty print statements\n",
        "\n",
        "The first even number is 0:\n",
        "\n",
        "0 2 4 6 8 10 12 14 16 18 20 22 24 26 28 30 32 34 36 38"
      ],
      "metadata": {
        "id": "VwPuQSyWSyZ9"
      }
    },
    {
      "cell_type": "code",
      "execution_count": 1,
      "metadata": {
        "colab": {
          "base_uri": "https://localhost:8080/"
        },
        "id": "9xYSF-bJSpZ-",
        "outputId": "7c138615-0dfe-4dba-8d27-d9db525623fe"
      },
      "outputs": [
        {
          "output_type": "stream",
          "name": "stdout",
          "text": [
            "0\n",
            "2\n",
            "4\n",
            "6\n",
            "8\n",
            "10\n",
            "12\n",
            "14\n",
            "16\n",
            "18\n",
            "20\n",
            "22\n",
            "24\n",
            "26\n",
            "28\n",
            "30\n",
            "32\n",
            "34\n",
            "36\n",
            "38\n"
          ]
        }
      ],
      "source": [
        "def main():\n",
        "    \"\"\"\n",
        "    This program prints the first 20 even numbers.\n",
        "    The even numbers start at 0 and are printed in the sequence:\n",
        "    0, 2, 4, 6, 8, 10, 12, 14, 16, 18, 20, 22, 24, 26, 28, 30, 32, 34, 36, 38.\n",
        "    \"\"\"\n",
        "\n",
        "    # Loop through numbers 0 to 19 (20 iterations)\n",
        "    for i in range(20):\n",
        "        # Print the even number by multiplying 'i' by 2\n",
        "        print(i * 2)  # Each 'i' value represents an index, multiplied by 2 to get even numbers\n",
        "\n",
        "# Standard boilerplate to call the main function when running the script\n",
        "if __name__ == \"__main__\":\n",
        "    main()\n"
      ]
    }
  ]
}