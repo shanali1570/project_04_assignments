{
  "nbformat": 4,
  "nbformat_minor": 0,
  "metadata": {
    "colab": {
      "provenance": []
    },
    "kernelspec": {
      "name": "python3",
      "display_name": "Python 3"
    },
    "language_info": {
      "name": "python"
    }
  },
  "cells": [
    {
      "cell_type": "markdown",
      "source": [
        "Problem Statement\n",
        "Write a program that prints out the calls for a spaceship that is about to launch. Countdown from 10 to 1 and then output Liftoff!\n",
        "\n",
        "Here's a sample run of the program:\n",
        "\n",
        "10 9 8 7 6 5 4 3 2 1 Liftoff!\n",
        "\n",
        "There are many ways to solve this problem. One approach is to use a for loop, and to use the for loop variable i. Recall that i will keep track of how many times the for loop has completed executing its body. As an example this code:\n",
        "\n",
        "for i in range(10): print(i)\n",
        "\n",
        "Will print out the values 0, 1, 2, 3, 4, 5, 6, 7, 8, 9. The values printed in liftoff are 10 minus the number of times the for loop has completed."
      ],
      "metadata": {
        "id": "Azi3SO_gWi8c"
      }
    },
    {
      "cell_type": "code",
      "execution_count": 1,
      "metadata": {
        "colab": {
          "base_uri": "https://localhost:8080/"
        },
        "id": "PtQmCNkUWf8a",
        "outputId": "4082f3a8-5e61-4d89-d563-9028fd68e9fd"
      },
      "outputs": [
        {
          "output_type": "stream",
          "name": "stdout",
          "text": [
            "10\n",
            "9\n",
            "8\n",
            "7\n",
            "6\n",
            "5\n",
            "4\n",
            "3\n",
            "2\n",
            "1\n",
            "Liftoff!\n"
          ]
        }
      ],
      "source": [
        "# Define the main function\n",
        "def main():\n",
        "    # We want to count down from 10 to 1, so we use range(10, 0, -1)\n",
        "    # This means: start at 10, go down to 1 (not including 0), step by -1\n",
        "    for i in range(10, 0, -1):\n",
        "        print(i)  # Print the countdown number\n",
        "\n",
        "    # After the countdown is done, print Liftoff!\n",
        "    print(\"Liftoff!\")\n",
        "\n",
        "# This line ensures the main() function runs when the file is executed\n",
        "if __name__ == '__main__':\n",
        "    main()\n"
      ]
    }
  ]
}