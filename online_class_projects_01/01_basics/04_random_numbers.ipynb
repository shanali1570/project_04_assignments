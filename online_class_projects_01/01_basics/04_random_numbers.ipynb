{
  "nbformat": 4,
  "nbformat_minor": 0,
  "metadata": {
    "colab": {
      "provenance": []
    },
    "kernelspec": {
      "name": "python3",
      "display_name": "Python 3"
    },
    "language_info": {
      "name": "python"
    }
  },
  "cells": [
    {
      "cell_type": "markdown",
      "source": [
        "Problem Statement\n",
        "Print 10 random numbers in the range 1 to 100.\n",
        "\n",
        "Here is an example run:\n",
        "\n",
        "45 79 61 47 52 10 16 83 19 12\n",
        "\n",
        "Each time you run your program you should get different numbers\n",
        "\n",
        "81 76 70 1 27 63 96 100 32 92\n",
        "\n",
        "Recall that the python random library has a function randint which returns an integer in the range set by the parameters (inclusive). For example this call would produce a random integer between 1 and 6, which could include 1 and could include 6:\n",
        "\n",
        "value = random.randint(1, 6"
      ],
      "metadata": {
        "id": "lMWPANjHit9j"
      }
    },
    {
      "cell_type": "code",
      "execution_count": 1,
      "metadata": {
        "colab": {
          "base_uri": "https://localhost:8080/"
        },
        "id": "LHJQmlEwisrS",
        "outputId": "cd945f64-345f-47de-9d59-3c652a442d84"
      },
      "outputs": [
        {
          "output_type": "stream",
          "name": "stdout",
          "text": [
            "78 29 20 77 38 94 74 96 8 64 \n"
          ]
        }
      ],
      "source": [
        "import random  # Importing the random module to generate random numbers\n",
        "\n",
        "# Constants for number of random numbers and the range\n",
        "N_NUMBERS: int = 10  # Number of random numbers to print\n",
        "MIN_VALUE: int = 1  # Minimum value in the range\n",
        "MAX_VALUE: int = 100  # Maximum value in the range\n",
        "\n",
        "def main():\n",
        "    # Loop to generate and print 10 random numbers\n",
        "    for _ in range(N_NUMBERS):\n",
        "        # Generate a random number between MIN_VALUE and MAX_VALUE\n",
        "        random_number = random.randint(MIN_VALUE, MAX_VALUE)\n",
        "        print(random_number, end=\" \")  # Print each random number on the same line\n",
        "\n",
        "    print()  # To move to the next line after printing all numbers\n",
        "\n",
        "if __name__ == '__main__':\n",
        "    main()  # Call the main function to run the program\n"
      ]
    }
  ]
}