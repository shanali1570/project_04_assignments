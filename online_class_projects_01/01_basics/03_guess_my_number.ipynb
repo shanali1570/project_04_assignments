{
  "nbformat": 4,
  "nbformat_minor": 0,
  "metadata": {
    "colab": {
      "provenance": []
    },
    "kernelspec": {
      "name": "python3",
      "display_name": "Python 3"
    },
    "language_info": {
      "name": "python"
    }
  },
  "cells": [
    {
      "cell_type": "markdown",
      "source": [
        "Problem Statement\n",
        "Guess My Number\n",
        "\n",
        "I am thinking of a number between 0 and 99... Enter a guess: 50 Your guess is too high\n",
        "\n",
        "Enter a new number: 25 Your guess is too low\n",
        "\n",
        "Enter a new number: 40 Your guess is too low\n",
        "\n",
        "Enter a new number: 45 Your guess is too low\n",
        "\n",
        "Enter a new number: 48 Congrats! The number was: 48"
      ],
      "metadata": {
        "id": "eaHsftNxgfL-"
      }
    },
    {
      "cell_type": "code",
      "execution_count": 1,
      "metadata": {
        "colab": {
          "base_uri": "https://localhost:8080/"
        },
        "id": "-12z-ZdPgcuH",
        "outputId": "f638105b-413f-49a0-b348-98103fe2c3e9"
      },
      "outputs": [
        {
          "output_type": "stream",
          "name": "stdout",
          "text": [
            "I am thinking of a number between 1 and 99...\n",
            "Enter a guess: 50\n",
            "Your guess is too high\n",
            "\n",
            "Enter a new guess: 30\n",
            "Your guess is too high\n",
            "\n",
            "Enter a new guess: 20\n",
            "Your guess is too high\n",
            "\n",
            "Enter a new guess: 10\n",
            "Your guess is too low\n",
            "\n",
            "Enter a new guess: 15\n",
            "Your guess is too low\n",
            "\n",
            "Enter a new guess: 18\n",
            "Your guess is too high\n",
            "\n",
            "Enter a new guess: 17\n",
            "Your guess is too high\n",
            "\n",
            "Enter a new guess: 16\n",
            "Congrats! The number was: 16\n"
          ]
        }
      ],
      "source": [
        "import random  # Importing the random module to generate random numbers\n",
        "\n",
        "def main():\n",
        "    # Generate a random number between 1 and 99 (inclusive)\n",
        "    secret_number: int = random.randint(1, 99)\n",
        "\n",
        "    # Prompting the user about the game and the range of numbers\n",
        "    print(\"I am thinking of a number between 1 and 99...\")\n",
        "\n",
        "    # Ask the user for their first guess\n",
        "    guess = int(input(\"Enter a guess: \"))\n",
        "\n",
        "    # While loop to keep prompting the user until they guess the correct number\n",
        "    while guess != secret_number:\n",
        "        # If the guess is less than the secret number, print \"too low\"\n",
        "        if guess < secret_number:\n",
        "            print(\"Your guess is too low\")\n",
        "        # If the guess is greater than the secret number, print \"too high\"\n",
        "        else:\n",
        "            print(\"Your guess is too high\")\n",
        "\n",
        "        print()  # Print an empty line to clean up the output before the next guess\n",
        "\n",
        "        # Prompt the user for another guess\n",
        "        guess = int(input(\"Enter a new guess: \"))  # Get a new guess from the user\n",
        "\n",
        "    # Once the correct number is guessed, print a congratulations message\n",
        "    print(\"Congrats! The number was: \" + str(secret_number))\n",
        "\n",
        "# This line checks if the script is being run directly (not imported)\n",
        "if __name__ == '__main__':\n",
        "    main()  # Call the main function to start the game\n"
      ]
    }
  ]
}