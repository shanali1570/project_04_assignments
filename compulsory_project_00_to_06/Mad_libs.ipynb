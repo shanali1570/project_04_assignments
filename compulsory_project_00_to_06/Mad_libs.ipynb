{
  "nbformat": 4,
  "nbformat_minor": 0,
  "metadata": {
    "colab": {
      "provenance": []
    },
    "kernelspec": {
      "name": "python3",
      "display_name": "Python 3"
    },
    "language_info": {
      "name": "python"
    }
  },
  "cells": [
    {
      "cell_type": "markdown",
      "source": [
        "**Project 1: Mad libs Python Project**"
      ],
      "metadata": {
        "id": "fS8zVN-W4RV9"
      }
    },
    {
      "cell_type": "code",
      "execution_count": null,
      "metadata": {
        "colab": {
          "base_uri": "https://localhost:8080/"
        },
        "id": "otQGIcCIEm62",
        "outputId": "f134f45c-b20b-4aa8-dacd-07acbf859217"
      },
      "outputs": [
        {
          "output_type": "stream",
          "name": "stdout",
          "text": [
            "\n",
            "    =================================================\n",
            "    Welcome to Mad Libs!----created by S.M.Shan-e-Ali\n",
            "    =================================================\n",
            "    \n",
            "This is a fun word game where you'll be asked to provide different types of words.\n",
            "These words will be inserted into a story template to create a hilarious story.\n",
            "Let's get started!\n",
            "\n",
            "=== Step 1: Provide an Adjective ===\n",
            "Enter an adjective (e.g., silly, brave, shiny): brave\n",
            "\n",
            "=== Step 2: Provide a Noun ===\n",
            "Enter a noun (e.g., cat, car, mountain): car\n",
            "\n",
            "=== Step 3: Provide a Verb ===\n",
            "Enter a verb (e.g., dance, run, fly): run\n",
            "\n",
            "=== Step 4: Provide a Place ===\n",
            "Enter a place (e.g., forest, school, moon): moon\n",
            "\n",
            "=== Step 5: Provide an Animal ===\n",
            "Enter an animal (e.g., elephant, tiger, penguin): tiger\n",
            "\n",
            "=== Step 6: Provide Another Adjective ===\n",
            "Enter another adjective (e.g., magical, sleepy, colorful): sleepy\n",
            "\n",
            "Here's your Mad Libs story:\n",
            "\n",
            "\n",
            "    Once upon a time, there was a brave car who loved to run. \n",
            "    One day, while run-ing in the moon, they met a sleepy tiger.\n",
            "    Together, they decided to run all the way to the moon.\n",
            "    It was a sleepy adventure!\n",
            "    \n"
          ]
        }
      ],
      "source": [
        "# Mad Libs Game\n",
        "\n",
        "def mad_libs():\n",
        "    print(\"\"\"\n",
        "    =================================================\n",
        "    Welcome to Mad Libs!----created by S.M.Shan-e-Ali\n",
        "    =================================================\n",
        "    \"\"\")\n",
        "    print(\"This is a fun word game where you'll be asked to provide different types of words.\")\n",
        "    print(\"These words will be inserted into a story template to create a hilarious story.\")\n",
        "    print(\"Let's get started!\\n\")\n",
        "\n",
        "    # Get user inputs\n",
        "    # Label and prompt for each input\n",
        "    print(\"=== Step 1: Provide an Adjective ===\")\n",
        "    adjective = input(\"Enter an adjective (e.g., silly, brave, shiny): \")\n",
        "\n",
        "    print(\"\\n=== Step 2: Provide a Noun ===\")\n",
        "    noun = input(\"Enter a noun (e.g., cat, car, mountain): \")\n",
        "\n",
        "    print(\"\\n=== Step 3: Provide a Verb ===\")\n",
        "    verb = input(\"Enter a verb (e.g., dance, run, fly): \")\n",
        "\n",
        "    print(\"\\n=== Step 4: Provide a Place ===\")\n",
        "    place = input(\"Enter a place (e.g., forest, school, moon): \")\n",
        "\n",
        "    print(\"\\n=== Step 5: Provide an Animal ===\")\n",
        "    animal = input(\"Enter an animal (e.g., elephant, tiger, penguin): \")\n",
        "\n",
        "    print(\"\\n=== Step 6: Provide Another Adjective ===\")\n",
        "    another_adjective = input(\"Enter another adjective (e.g., magical, sleepy, colorful): \")\n",
        "\n",
        "    # Create the story using f-strings\n",
        "    story = f\"\"\"\n",
        "    Once upon a time, there was a {adjective} {noun} who loved to {verb}.\n",
        "    One day, while {verb}-ing in the {place}, they met a {another_adjective} {animal}.\n",
        "    Together, they decided to {verb} all the way to the {place}.\n",
        "    It was a {another_adjective} adventure!\n",
        "    \"\"\"\n",
        "\n",
        "    # Print the final story\n",
        "    print(\"\\nHere's your Mad Libs story:\\n\")\n",
        "    print(story)\n",
        "\n",
        "# Run the game\n",
        "mad_libs()"
      ]
    }
  ]
}