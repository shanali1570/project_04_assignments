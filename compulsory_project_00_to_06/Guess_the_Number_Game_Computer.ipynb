{
  "nbformat": 4,
  "nbformat_minor": 0,
  "metadata": {
    "colab": {
      "provenance": []
    },
    "kernelspec": {
      "name": "python3",
      "display_name": "Python 3"
    },
    "language_info": {
      "name": "python"
    }
  },
  "cells": [
    {
      "cell_type": "markdown",
      "source": [
        "**Project 2: Guess the Number Game Python Project (computer)**"
      ],
      "metadata": {
        "id": "aB-G50sN4I2h"
      }
    },
    {
      "cell_type": "code",
      "execution_count": null,
      "metadata": {
        "colab": {
          "base_uri": "https://localhost:8080/"
        },
        "id": "4skpO_7_IcdP",
        "outputId": "69bf6d1f-f266-4e26-9c80-e6936ca7128d"
      },
      "outputs": [
        {
          "output_type": "stream",
          "name": "stdout",
          "text": [
            "Welcome to the Guess the Number Game! created by S.M.Shan-e-Ali\n",
            "I'm thinking of a number between 1 and 100.\n",
            "Enter your guess: 50\n",
            "Too high! Try again.\n",
            "Enter your guess: 40\n",
            "Too high! Try again.\n",
            "Enter your guess: 30\n",
            "Too high! Try again.\n",
            "Enter your guess: 20\n",
            "Too high! Try again.\n",
            "Enter your guess: 10\n",
            "Too low! Try again.\n",
            "Enter your guess: 15\n",
            "Too low! Try again.\n",
            "Enter your guess: 19\n",
            "Too high! Try again.\n",
            "Enter your guess: 18\n",
            "Too high! Try again.\n",
            "Enter your guess: 17\n",
            "Congratulations! You guessed the number 17 in 9 attempts.\n",
            "Do you want to play again? (yes/no): no\n",
            "Thanks for playing! Goodbye!\n"
          ]
        }
      ],
      "source": [
        "import random\n",
        "\n",
        "def guess_the_number():\n",
        "    \"\"\"\n",
        "    A simple number guessing game where the computer generates a random number,\n",
        "    and the player tries to guess it.\n",
        "    \"\"\"\n",
        "    print(\"\"\"\n",
        "    ==========================================================================\n",
        "    Welcome to the Guess the Number Game (Computer)! created by S.M.Shan-e-Ali\n",
        "    ==========================================================================\n",
        "    \"\"\")\n",
        "    print(\"I'm thinking of a number between 1 and 100.\")\n",
        "\n",
        "    # Generate a random number between 1 and 100\n",
        "    secret_number = random.randint(1, 100)\n",
        "    attempts = 0\n",
        "\n",
        "    while True:\n",
        "        try:\n",
        "            # Get user input and convert it to an integer\n",
        "            guess = int(input(\"Enter your guess: \"))\n",
        "            attempts += 1\n",
        "\n",
        "            # Check if the guess is correct\n",
        "            if guess < secret_number:\n",
        "                print(\"Too low! Try again.\")\n",
        "            elif guess > secret_number:\n",
        "                print(\"Too high! Try again.\")\n",
        "            else:\n",
        "                print(f\"Congratulations! You guessed the number {secret_number} in {attempts} attempts.\")\n",
        "                break\n",
        "        except ValueError:\n",
        "            print(\"Invalid input! Please enter a valid number.\")\n",
        "\n",
        "def main():\n",
        "    \"\"\"\n",
        "    Main function to run the game and allow replaying.\n",
        "    \"\"\"\n",
        "    while True:\n",
        "        guess_the_number()\n",
        "\n",
        "        # Ask the user if they want to play again\n",
        "        play_again = input(\"Do you want to play again? (yes/no): \").strip().lower()\n",
        "        if play_again != 'yes':\n",
        "            print(\"Thanks for playing! Goodbye!\")\n",
        "            break\n",
        "\n",
        "# Run the game\n",
        "if __name__ == \"__main__\":\n",
        "    main()"
      ]
    }
  ]
}