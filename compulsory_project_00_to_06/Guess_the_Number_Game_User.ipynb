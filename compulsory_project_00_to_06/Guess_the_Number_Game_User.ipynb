{
  "nbformat": 4,
  "nbformat_minor": 0,
  "metadata": {
    "colab": {
      "provenance": []
    },
    "kernelspec": {
      "name": "python3",
      "display_name": "Python 3"
    },
    "language_info": {
      "name": "python"
    }
  },
  "cells": [
    {
      "cell_type": "code",
      "execution_count": null,
      "metadata": {
        "colab": {
          "base_uri": "https://localhost:8080/"
        },
        "id": "tvu8kbeuMAIC",
        "outputId": "59fc34d2-e44c-4a6b-9e53-c3287a41d81b"
      },
      "outputs": [
        {
          "output_type": "stream",
          "name": "stdout",
          "text": [
            "Welcome to the Guess the Number Game! created by S.M.Shan-e-Ali\n",
            "Think of a number between 1 and 100, and I'll try to guess it.\n",
            "Is your number 91? (Enter 'h' if it's too high, 'l' if it's too low, or 'c' if it's correct): h\n",
            "Is your number 2? (Enter 'h' if it's too high, 'l' if it's too low, or 'c' if it's correct): l\n",
            "Is your number 75? (Enter 'h' if it's too high, 'l' if it's too low, or 'c' if it's correct): h\n",
            "Is your number 39? (Enter 'h' if it's too high, 'l' if it's too low, or 'c' if it's correct): l\n",
            "Is your number 61? (Enter 'h' if it's too high, 'l' if it's too low, or 'c' if it's correct): h\n",
            "Is your number 50? (Enter 'h' if it's too high, 'l' if it's too low, or 'c' if it's correct): l\n",
            "Is your number 52? (Enter 'h' if it's too high, 'l' if it's too low, or 'c' if it's correct): l\n",
            "Is your number 58? (Enter 'h' if it's too high, 'l' if it's too low, or 'c' if it's correct): l\n",
            "Is your number 59? (Enter 'h' if it's too high, 'l' if it's too low, or 'c' if it's correct): l\n",
            "Is your number 60? (Enter 'h' if it's too high, 'l' if it's too low, or 'c' if it's correct): c\n",
            "Great! I guessed your number 60 correctly!\n",
            "Thanks for playing!\n"
          ]
        }
      ],
      "source": [
        "import random\n",
        "\n",
        "def guess_the_number():\n",
        "    print(\"\"\"\n",
        "    ======================================================================\n",
        "    Welcome to the Guess the Number Game (User)! created by S.M.Shan-e-Ali\n",
        "    ======================================================================\n",
        "    \"\"\")\n",
        "    print(\"Think of a number between 1 and 100, and I'll try to guess it.\")\n",
        "\n",
        "    # Initialize the range for guessing\n",
        "    low = 1\n",
        "    high = 100\n",
        "    feedback = \"\"\n",
        "\n",
        "    while feedback != \"c\":\n",
        "        if low > high:\n",
        "            print(\"Hmm, something seems off. Did you give me incorrect feedback?\")\n",
        "            break\n",
        "\n",
        "        # Generate a random guess within the current range\n",
        "        guess = random.randint(low, high)\n",
        "        feedback = input(f\"Is your number {guess}? (Enter 'h' if it's too high, 'l' if it's too low, or 'c' if it's correct): \").lower()\n",
        "\n",
        "        # Adjust the range based on user feedback\n",
        "        if feedback == \"h\":\n",
        "            high = guess - 1\n",
        "        elif feedback == \"l\":\n",
        "            low = guess + 1\n",
        "        elif feedback == \"c\":\n",
        "            print(f\"Great! I guessed your number {guess} correctly!\")\n",
        "        else:\n",
        "            print(\"Invalid input. Please enter 'h', 'l', or 'c'.\")\n",
        "\n",
        "    print(\"Thanks for playing!\")\n",
        "\n",
        "# Run the game\n",
        "if __name__ == \"__main__\":\n",
        "    guess_the_number()"
      ]
    }
  ]
}