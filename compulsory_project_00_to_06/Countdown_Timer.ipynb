{
  "nbformat": 4,
  "nbformat_minor": 0,
  "metadata": {
    "colab": {
      "provenance": []
    },
    "kernelspec": {
      "name": "python3",
      "display_name": "Python 3"
    },
    "language_info": {
      "name": "python"
    }
  },
  "cells": [
    {
      "cell_type": "markdown",
      "source": [
        "**Project 6: Countdown Timer Python Project**"
      ],
      "metadata": {
        "id": "1Tah6bt-3Pgi"
      }
    },
    {
      "cell_type": "code",
      "execution_count": null,
      "metadata": {
        "colab": {
          "base_uri": "https://localhost:8080/"
        },
        "id": "uSuMWEXyhIQ3",
        "outputId": "52cbd385-a0ea-4fa5-c4a7-4ae237abff35"
      },
      "outputs": [
        {
          "output_type": "stream",
          "name": "stdout",
          "text": [
            "\n",
            "    ================================= \n",
            "    Countdown Timer -- S.M.Shan-e-Ali \n",
            "    =================================\n",
            "    \n",
            "Instructions:\n",
            "1. Enter the countdown duration in seconds.\n",
            "2. The timer will count down and display the remaining time.\n",
            "3. When the countdown ends, you'll see a 'Time's up!' message.\n",
            "\n",
            "Enter the countdown time in seconds: 10\n",
            "\n",
            "Countdown Started!\n",
            "\n",
            "\n",
            "*** Time's up! ***\n",
            "\n"
          ]
        }
      ],
      "source": [
        "import time\n",
        "import os\n",
        "\n",
        "def countdown_timer(seconds):\n",
        "    \"\"\"\n",
        "    A simple countdown timer that counts down from the given number of seconds.\n",
        "    \"\"\"\n",
        "    print(\"\\nCountdown Started!\")\n",
        "    while seconds > 0:\n",
        "        # Format the time as minutes and seconds\n",
        "        mins, secs = divmod(seconds, 60)\n",
        "        time_format = f\"{mins:02d}:{secs:02d}\"  # Ensure two digits for both minutes and seconds\n",
        "\n",
        "        # Clear the console (optional, works on most systems)\n",
        "        os.system('cls' if os.name == 'nt' else 'clear')\n",
        "\n",
        "        # Print the current countdown time with a label\n",
        "        print(\"Time Remaining:\", time_format, end=\"\\r\")  # '\\r' ensures the output stays on the same line\n",
        "\n",
        "        # Wait for one second\n",
        "        time.sleep(1)\n",
        "\n",
        "        # Decrement the countdown\n",
        "        seconds -= 1\n",
        "\n",
        "    # Countdown complete\n",
        "    print(\"\\n\\n*** Time's up! ***\\n\")\n",
        "\n",
        "def main():\n",
        "    \"\"\"\n",
        "    Main function to run the countdown timer.\n",
        "    \"\"\"\n",
        "    print(\"\"\"\n",
        "    ============================================\n",
        "    Countdown Timer -- created by S.M.Shan-e-Ali\n",
        "    ============================================\n",
        "    \"\"\")\n",
        "    print(\"Instructions:\")\n",
        "    print(\"1. Enter the countdown duration in seconds.\")\n",
        "    print(\"2. The timer will count down and display the remaining time.\")\n",
        "    print(\"3. When the countdown ends, you'll see a 'Time's up!' message.\\n\")\n",
        "\n",
        "    try:\n",
        "        # Get user input for the countdown duration\n",
        "        user_input = int(input(\"Enter the countdown time in seconds: \"))\n",
        "        if user_input <= 0:\n",
        "            print(\"Please enter a positive integer greater than zero.\")\n",
        "            return\n",
        "\n",
        "        # Start the countdown timer\n",
        "        countdown_timer(user_input)\n",
        "\n",
        "    except ValueError:\n",
        "        print(\"Invalid input! Please enter a valid integer.\")\n",
        "\n",
        "if __name__ == \"__main__\":\n",
        "    main()"
      ]
    }
  ]
}