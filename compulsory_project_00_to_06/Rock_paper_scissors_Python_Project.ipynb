{
  "nbformat": 4,
  "nbformat_minor": 0,
  "metadata": {
    "colab": {
      "provenance": []
    },
    "kernelspec": {
      "name": "python3",
      "display_name": "Python 3"
    },
    "language_info": {
      "name": "python"
    }
  },
  "cells": [
    {
      "cell_type": "markdown",
      "source": [
        "**Project 4: Rock, paper, scissors Python Project**"
      ],
      "metadata": {
        "id": "nCIuc2do3woy"
      }
    },
    {
      "cell_type": "code",
      "execution_count": null,
      "metadata": {
        "id": "obVYSSsQQIWN",
        "colab": {
          "base_uri": "https://localhost:8080/"
        },
        "outputId": "b87c1485-afe7-4128-ffcd-e1762637ca32"
      },
      "outputs": [
        {
          "output_type": "stream",
          "name": "stdout",
          "text": [
            "\n",
            "    ===========================================================\n",
            "    Welcome to Rock, Paper, Scissors created by S.M.Shan-e-Ali!\n",
            "    ===========================================================\n",
            "\n",
            "    INSTRUCTIONS:\n",
            "    - You will play against the computer.\n",
            "    - Choose one of the following options: rock, paper, or scissors.\n",
            "    - Rules:\n",
            "        * Rock beats Scissors.\n",
            "        * Scissors beats Paper.\n",
            "        * Paper beats Rock.\n",
            "    - If both you and the computer choose the same option, it's a tie!\n",
            "\n",
            "    Let's get started!\n",
            "    \n"
          ]
        }
      ],
      "source": [
        "import random\n",
        "\n",
        "def get_user_choice():\n",
        "    \"\"\"Get and validate the user's choice.\"\"\"\n",
        "    choices = ['rock', 'paper', 'scissors']\n",
        "    while True:\n",
        "        user_input = input(\"Enter your choice (rock, paper, scissors): \").lower()\n",
        "        if user_input in choices:\n",
        "            return user_input\n",
        "        else:\n",
        "            print(\"Invalid choice! Please enter 'rock', 'paper', or 'scissors'.\")\n",
        "\n",
        "def get_computer_choice():\n",
        "    \"\"\"Generate the computer's choice using random.choice().\"\"\"\n",
        "    return random.choice(['rock', 'paper', 'scissors'])\n",
        "\n",
        "def determine_winner(user_choice, computer_choice):\n",
        "    \"\"\"Determine the winner based on the rules of Rock, Paper, Scissors.\"\"\"\n",
        "    print(f\"You chose: {user_choice}\")\n",
        "    print(f\"Computer chose: {computer_choice}\")\n",
        "\n",
        "    if user_choice == computer_choice:\n",
        "        return \"It's a tie!\"\n",
        "    elif (user_choice == 'rock' and computer_choice == 'scissors') or \\\n",
        "         (user_choice == 'paper' and computer_choice == 'rock') or \\\n",
        "         (user_choice == 'scissors' and computer_choice == 'paper'):\n",
        "        return \"You win!\"\n",
        "    else:\n",
        "        return \"Computer wins!\"\n",
        "\n",
        "def play_game():\n",
        "    \"\"\"Main function to play the game.\"\"\"\n",
        "    print(\"\"\"\n",
        "    ===========================================================\n",
        "    Welcome to Rock, Paper, Scissors created by S.M.Shan-e-Ali!\n",
        "    ===========================================================\n",
        "\n",
        "    INSTRUCTIONS:\n",
        "    - You will play against the computer.\n",
        "    - Choose one of the following options: rock, paper, or scissors.\n",
        "    - Rules:\n",
        "        * Rock beats Scissors.\n",
        "        * Scissors beats Paper.\n",
        "        * Paper beats Rock.\n",
        "    - If both you and the computer choose the same option, it's a tie!\n",
        "\n",
        "    Let's get started!\n",
        "    \"\"\")\n",
        "\n",
        "    while True:\n",
        "        user_choice = get_user_choice()\n",
        "        computer_choice = get_computer_choice()\n",
        "        result = determine_winner(user_choice, computer_choice)\n",
        "        print(result)\n",
        "\n",
        "        # Ask if the user wants to play again\n",
        "        play_again = input(\"Do you want to play again? (yes/no): \").lower()\n",
        "        if play_again != 'yes':\n",
        "            print(\"Thanks for playing! Goodbye!\")\n",
        "            break\n",
        "\n",
        "# Run the game\n",
        "if __name__ == \"__main__\":\n",
        "    play_game()"
      ]
    }
  ]
}